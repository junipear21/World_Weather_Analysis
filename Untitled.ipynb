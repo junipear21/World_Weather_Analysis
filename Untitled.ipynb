{
 "cells": [
  {
   "cell_type": "code",
   "execution_count": 1,
   "id": "8d160db1",
   "metadata": {},
   "outputs": [],
   "source": [
    "# Import the random module.\n",
    "import random"
   ]
  },
  {
   "cell_type": "code",
   "execution_count": 2,
   "id": "bfc10322",
   "metadata": {},
   "outputs": [
    {
     "data": {
      "text/plain": [
       "-42"
      ]
     },
     "execution_count": 2,
     "metadata": {},
     "output_type": "execute_result"
    }
   ],
   "source": [
    "random.randint(-90, 90)"
   ]
  },
  {
   "cell_type": "code",
   "execution_count": 3,
   "id": "9d64418e",
   "metadata": {},
   "outputs": [
    {
     "data": {
      "text/plain": [
       "0.6257103525212016"
      ]
     },
     "execution_count": 3,
     "metadata": {},
     "output_type": "execute_result"
    }
   ],
   "source": [
    "random.random()"
   ]
  },
  {
   "cell_type": "code",
   "execution_count": 4,
   "id": "97f87874",
   "metadata": {},
   "outputs": [],
   "source": [
    "x = 1\n",
    "latitudes = []\n",
    "while x < 11:\n",
    "    random_lat = random.randint(-90, 89) + random.random()\n",
    "    latitudes.append(random_lat)\n",
    "    x += 1"
   ]
  },
  {
   "cell_type": "code",
   "execution_count": 5,
   "id": "c9c56f68",
   "metadata": {},
   "outputs": [
    {
     "data": {
      "text/plain": [
       "[-23.07340847394151,\n",
       " -65.0985144102737,\n",
       " -26.10637785515929,\n",
       " 13.851823962284461,\n",
       " -35.61834988419515,\n",
       " 55.1995822187098,\n",
       " -82.0396132964186,\n",
       " -65.57042789883302,\n",
       " -72.34605069789085,\n",
       " -79.13747778188949]"
      ]
     },
     "execution_count": 5,
     "metadata": {},
     "output_type": "execute_result"
    }
   ],
   "source": [
    "latitudes"
   ]
  },
  {
   "cell_type": "code",
   "execution_count": 6,
   "id": "056bb64e",
   "metadata": {},
   "outputs": [
    {
     "data": {
      "text/plain": [
       "-80.93824368465116"
      ]
     },
     "execution_count": 6,
     "metadata": {},
     "output_type": "execute_result"
    }
   ],
   "source": [
    "random.uniform(-90, 90)"
   ]
  },
  {
   "cell_type": "code",
   "execution_count": 7,
   "id": "584dcc55",
   "metadata": {},
   "outputs": [],
   "source": [
    "# Import the NumPy module.\n",
    "import numpy as np"
   ]
  },
  {
   "cell_type": "code",
   "execution_count": 8,
   "id": "0c89c872",
   "metadata": {},
   "outputs": [
    {
     "data": {
      "text/plain": [
       "array([-68.06943941,  41.52370698, -85.44612388,  74.92289005,\n",
       "         5.4223623 ,  53.95571359,  24.10693679, -86.68719657,\n",
       "         9.23427901, -80.30509224,  -0.1888777 ,  29.0669026 ,\n",
       "       -82.57305273, -17.30899207,  67.72276526, -80.65304627,\n",
       "        32.28465433,  14.52936757,  -8.37980467,   3.31443777,\n",
       "       -85.15271546, -48.10966703, -88.71752979, -30.30668573,\n",
       "       -76.13090106,  37.78517615,  62.20642619,  21.90125108,\n",
       "        31.59322039,   8.63882672,  39.42131751, -25.31051776,\n",
       "        50.51193889, -59.88271641, -21.01614717,  87.92885624,\n",
       "       -77.02261588, -46.68833859,  20.03940468,  72.31511614,\n",
       "       -81.83398487,  59.8530526 , -60.02462458,  52.27286693,\n",
       "       -39.98208264,  20.8998794 ,  36.10221161,  51.84534057,\n",
       "        88.99196733,  75.42157664])"
      ]
     },
     "execution_count": 8,
     "metadata": {},
     "output_type": "execute_result"
    }
   ],
   "source": [
    "np.random.uniform(-90.000, 90.000, size=50)"
   ]
  },
  {
   "cell_type": "code",
   "execution_count": 9,
   "id": "d7b6c74c",
   "metadata": {},
   "outputs": [],
   "source": [
    "# Import timeit.\n",
    "import timeit"
   ]
  },
  {
   "cell_type": "code",
   "execution_count": 11,
   "id": "69d16eee",
   "metadata": {},
   "outputs": [
    {
     "name": "stdout",
     "output_type": "stream",
     "text": [
      "9.45 µs ± 120 ns per loop (mean ± std. dev. of 7 runs, 100000 loops each)\n"
     ]
    }
   ],
   "source": [
    "%timeit np.random.uniform(-90.000, 90.000, size=1500)"
   ]
  },
  {
   "cell_type": "code",
   "execution_count": 12,
   "id": "4a9090af",
   "metadata": {},
   "outputs": [
    {
     "name": "stdout",
     "output_type": "stream",
     "text": [
      "992 µs ± 9.12 µs per loop (mean ± std. dev. of 7 runs, 1000 loops each)\n"
     ]
    }
   ],
   "source": [
    "def latitudes(size):\n",
    "    latitudes = []\n",
    "    x = 0\n",
    "    while x < (size):\n",
    "        random_lat = random.randint(-90, 90) + random.random()\n",
    "        latitudes.append(random_lat)\n",
    "        x += 1\n",
    "    return latitudes\n",
    "# Call the function with 1500.\n",
    "%timeit latitudes(1500)"
   ]
  },
  {
   "cell_type": "code",
   "execution_count": null,
   "id": "ce4967ab",
   "metadata": {},
   "outputs": [],
   "source": []
  }
 ],
 "metadata": {
  "kernelspec": {
   "display_name": "PythonData",
   "language": "python",
   "name": "pythondata"
  },
  "language_info": {
   "codemirror_mode": {
    "name": "ipython",
    "version": 3
   },
   "file_extension": ".py",
   "mimetype": "text/x-python",
   "name": "python",
   "nbconvert_exporter": "python",
   "pygments_lexer": "ipython3",
   "version": "3.9.7"
  }
 },
 "nbformat": 4,
 "nbformat_minor": 5
}
